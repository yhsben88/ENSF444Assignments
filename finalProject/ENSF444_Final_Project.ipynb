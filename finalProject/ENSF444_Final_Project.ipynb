{
  "cells": [
    {
      "cell_type": "markdown",
      "source": [
        "<font size=\"+3\"><b>Final Project: PCA and Clustering\n",
        "</b></font>\n",
        "\n",
        "***\n",
        "* **Full Name** =\n",
        "* **UCID** =\n",
        "***"
      ],
      "metadata": {
        "id": "XOOs70pZsAKF"
      },
      "id": "XOOs70pZsAKF"
    },
    {
      "cell_type": "markdown",
      "id": "ba7f05d0",
      "metadata": {
        "id": "ba7f05d0"
      },
      "source": [
        "<font color='Blue'>\n",
        "The purpose of this assignment is to practice using PCA and clustering techniques on a given dataset.\n",
        "</font>"
      ]
    },
    {
      "cell_type": "markdown",
      "source": [
        "<font color='Red'>\n",
        "For this assignment, in addition to your .ipynb file, please also attach a PDF file. To generate this PDF file, you can use the print function (located under the \"File\" within Jupyter Notebook). Name this file ENGG444_Final_Project_yourUCID.pdf (this name is similar to your main .ipynb file). We will evaluate your assignment based on the two files and you need to provide both.\n",
        "</font>\n",
        "\n",
        "\n",
        "|                 **Question**                | **Point(s)** |\n",
        "|:-------------------------------------------:|:------------:|\n",
        "| **1. Principle Component   Analysis (PCA)** |              |\n",
        "|                     1.1                     |       3      |\n",
        "|                     1.2                     |       2      |\n",
        "|                     1.3                     |       2      |\n",
        "|                     1.4                     |       3      |\n",
        "|                     1.5                     |       6      |\n",
        "|                     1.6                     |       2      |\n",
        "|         **2. Pipeline and Modeling**        |              |\n",
        "|                     2.1                     |       3      |\n",
        "|                     2.2                     |       2      |\n",
        "|                     2.3                     |       2      |\n",
        "|                     2.4                     |       3      |\n",
        "|            **3. Bonus Question**            |     **2**    |\n",
        "|                    Total                    |      28      |"
      ],
      "metadata": {
        "id": "-zeSnLrGawW2"
      },
      "id": "-zeSnLrGawW2"
    },
    {
      "cell_type": "markdown",
      "id": "fe7cfa4f",
      "metadata": {
        "id": "fe7cfa4f"
      },
      "source": [
        "## Data\n",
        "\n",
        "The data on [this page](https://archive.ics.uci.edu/dataset/236/seeds) pertains to a study on wheat kernels, specifically focusing on the geometrical properties of kernels from three different wheat varieties: Kama, Rosa, and Canadian. Here's a summary of the key points:\n",
        "\n",
        "- **Dataset Characteristics**: The data is multivariate and real-valued, used for classification and clustering tasks in biology.\n",
        "- **Measurement Technique**: A soft X-ray technique was employed for high-quality visualization of the internal kernel structure, which is non-destructive and cost-effective compared to other methods.\n",
        "- **Geometric Parameters**: Seven parameters were measured for each kernel: area (A), perimeter (P), compactness (C = 4*pi*A/P^2), length, width, asymmetry coefficient, and length of kernel groove.\n",
        "- **Research Purpose**: The dataset facilitates the analysis of features in X-ray images of wheat kernels and can be applied to various statistical and machine learning tasks.\n",
        "\n",
        "This dataset was collected for an experiment conducted at the Institute of Agrophysics of the Polish Academy of Sciences in Lublin and has been cited in several research papers for its application in feature analysis and classification algorithms."
      ]
    },
    {
      "cell_type": "code",
      "source": [
        "# Download the zip file using wget\n",
        "!wget -N \"https://archive.ics.uci.edu/static/public/236/seeds.zip\"\n",
        "\n",
        "# Unzip wine.data from the downloaded zip file\n",
        "!unzip -o seeds.zip seeds_dataset.txt\n",
        "\n",
        "# Remove the downloaded zip file after extraction\n",
        "!rm -r seeds.zip"
      ],
      "metadata": {
        "id": "uhbvQcUgaP1B"
      },
      "id": "uhbvQcUgaP1B",
      "execution_count": null,
      "outputs": []
    },
    {
      "cell_type": "code",
      "execution_count": null,
      "id": "474481f1",
      "metadata": {
        "id": "474481f1"
      },
      "outputs": [],
      "source": [
        "# 1. area A,\n",
        "# 2. perimeter P,\n",
        "# 3. compactness C = 4*pi*A/P^2,\n",
        "# 4. length of kernel,\n",
        "# 5. width of kernel,\n",
        "# 6. asymmetry coefficient\n",
        "# 7. length of kernel groove.\n",
        "\n",
        "# https://archive.ics.uci.edu/dataset/236/seeds\n",
        "\n",
        "import pandas as pd\n",
        "\n",
        "data = pd.read_csv('seeds_dataset.txt', sep = '\\s+', header = None)\n",
        "data.columns = ['Area', 'Perimeter', 'Compactness',\n",
        "                'Length of Kernel', 'Width of Kernel',\n",
        "                'Asymmetry Coefficient', 'Length of Kernel Groove', 'Type']\n",
        "display(data)"
      ]
    },
    {
      "cell_type": "markdown",
      "id": "3c84e8e3",
      "metadata": {
        "id": "3c84e8e3"
      },
      "source": [
        "## 1. Principle Component Analysis (PCA)"
      ]
    },
    {
      "cell_type": "markdown",
      "id": "e5024bec",
      "metadata": {
        "id": "e5024bec"
      },
      "source": [
        "### 1.1 Preprocessing (3 Points)\n",
        "\n",
        "- **Split the data into X and y** (0.5 Point)\n",
        "  - Assign the features to `X` and the target variable to `y`.\n",
        "\n",
        "- **Stratified Split of X and y into Train and Test Sets** (0.5 Point)\n",
        "  - Utilize stratification to ensure representative distribution of classes while splitting.\n",
        "\n",
        "- **Plot Train and Test Proportions in a Pie Chart** (2 Points)\n",
        "  - The pie chart should include:\n",
        "    - Labels indicating 'Training Set' and 'Test Set'.\n",
        "    - A title for the chart.\n",
        "    - Proportion percentages for the Training and Test sets displayed on each slice of the pie.\n",
        "    - The number of entries within the Training and Test sets shown below the corresponding percentage."
      ]
    },
    {
      "cell_type": "code",
      "execution_count": null,
      "id": "15a5c76c",
      "metadata": {
        "id": "15a5c76c"
      },
      "outputs": [],
      "source": [
        "# 1.1\n",
        "# Add necessary code here."
      ]
    },
    {
      "cell_type": "markdown",
      "source": [
        "<font color='Green'><b>Answer:</b></font>\n",
        "\n",
        "- **1.1** ....................."
      ],
      "metadata": {
        "id": "k64eg7HBbn48"
      },
      "id": "k64eg7HBbn48"
    },
    {
      "cell_type": "markdown",
      "id": "f908b657",
      "metadata": {
        "id": "f908b657"
      },
      "source": [
        "### 1.2 Scaling the Data (2 Points)\n",
        "\n",
        "To ensure that our preprocessing pipeline optimizes the performance of our machine learning model, we need to scale the data appropriately.\n",
        "\n",
        "- **Selecting an Appropriate Scaler**:\n",
        "  - Explain your choice of scaler for the dataset. (1 Points)\n",
        "  - Justify your decision based on the characteristics of the data and the requirements of the algorithm being used. (1 Points)\n"
      ]
    },
    {
      "cell_type": "markdown",
      "id": "282cbc43",
      "metadata": {
        "id": "282cbc43"
      },
      "source": [
        "<font color='Green'><b>Answer:</b></font>\n",
        "\n",
        "- **1.2** ....................."
      ]
    },
    {
      "cell_type": "markdown",
      "id": "8cfa23f3",
      "metadata": {
        "id": "8cfa23f3"
      },
      "source": [
        "### 1.3 Model Selection and Justification (2 Points)\n",
        "\n",
        "- **Choose an Appropriate Machine Learning Model**:\n",
        "  - Identify the model that you believe is most suitable for the dataset.\n",
        "  - Provide a justification for your choice based on the dataset's characteristics."
      ]
    },
    {
      "cell_type": "code",
      "source": [
        "# 1.3\n",
        "# Add necessary code here."
      ],
      "metadata": {
        "id": "wRdBE-rFbuM8"
      },
      "id": "wRdBE-rFbuM8",
      "execution_count": null,
      "outputs": []
    },
    {
      "cell_type": "markdown",
      "id": "773d0687",
      "metadata": {
        "id": "773d0687"
      },
      "source": [
        "<font color='Green'><b>Answer:</b></font>\n",
        "\n",
        "- **1.3** ....................."
      ]
    },
    {
      "cell_type": "markdown",
      "id": "2177add4",
      "metadata": {
        "id": "2177add4"
      },
      "source": [
        "### 1.4 Hyperparameter Optimization with Grid Search (3 Points)\n",
        "\n",
        "- **Set Up the Grid Search**:\n",
        "  - Construct a pipeline that incorporates the selected scaler from part 1.2 to standardize the data.\n",
        "  - Execute a grid search within this pipeline to identify the best hyperparameter settings for your chosen model.\n",
        "  - Provide a broad and varied range of hyperparameter values to ensure a thorough search.\n"
      ]
    },
    {
      "cell_type": "code",
      "source": [
        "# 1.4\n",
        "# Add necessary code here."
      ],
      "metadata": {
        "id": "cw6f0w0DbvaE"
      },
      "id": "cw6f0w0DbvaE",
      "execution_count": null,
      "outputs": []
    },
    {
      "cell_type": "markdown",
      "source": [
        "<font color='Green'><b>Answer:</b></font>\n",
        "\n",
        "- **1.4** ....................."
      ],
      "metadata": {
        "id": "HisdcY2Zbw4M"
      },
      "id": "HisdcY2Zbw4M"
    },
    {
      "cell_type": "markdown",
      "source": [
        "### 1.5 Dimensionality Reduction and Model Optimization (6 Points)\n",
        "\n",
        "- **Dimensionality Reduction Choice** (2 Points):\n",
        "  - Choose between PCA and t-SNE for reducing the dataset to two dimensions.\n",
        "  - Justify your selection based on the characteristics of the seeds dataset.\n",
        "\n",
        "- **Implement Dimensionality Reduction** (2 Points):\n",
        "  - Apply the chosen dimensionality reduction technique to the seeds dataset.\n",
        "  - Reduce the dataset to two dimensions as required.\n",
        "\n",
        "- **Model Optimization on Reduced Data** (2 Points):\n",
        "  - Redo the grid search from part 1.4 using the two-dimensional data.\n",
        "  - Compare the model's performance with the original higher-dimensional data."
      ],
      "metadata": {
        "id": "KHenrooWRjzm"
      },
      "id": "KHenrooWRjzm"
    },
    {
      "cell_type": "code",
      "source": [
        "# 1.5\n",
        "# Add necessary code here."
      ],
      "metadata": {
        "id": "ENlNZK1ub7ws"
      },
      "id": "ENlNZK1ub7ws",
      "execution_count": null,
      "outputs": []
    },
    {
      "cell_type": "markdown",
      "source": [
        "<font color='Green'><b>Answer:</b></font>\n",
        "\n",
        "- **1.5** ....................."
      ],
      "metadata": {
        "id": "qK_pfLzVb9Kr"
      },
      "id": "qK_pfLzVb9Kr"
    },
    {
      "cell_type": "markdown",
      "source": [
        "### 1.6 Visualizing Reduced Dimensionality Data (2 Points)\n",
        "\n",
        "- **Create a 2D Scatter Plot for Training and Testing Sets**:\n",
        "  - Generate 1-row-two-column subplots for scatter plots for the two-dimensional training and testing data obtained from part 1.5.\n",
        "  - Clearly label the x-axis and y-axis for both plots.\n",
        "  - Include a legend in each plot that distinctly represents the distribution of the three classes (you can use different shapes and colors to represent different classes)."
      ],
      "metadata": {
        "id": "hLqYEWqrUnzT"
      },
      "id": "hLqYEWqrUnzT"
    },
    {
      "cell_type": "code",
      "source": [
        "# 1.6\n",
        "# Add necessary code here."
      ],
      "metadata": {
        "id": "OlN_Ea9TUsVo"
      },
      "id": "OlN_Ea9TUsVo",
      "execution_count": null,
      "outputs": []
    },
    {
      "cell_type": "markdown",
      "id": "3bf578b1",
      "metadata": {
        "id": "3bf578b1"
      },
      "source": [
        "## 2. Clustering and Visualization of the Seeds Dataset"
      ]
    },
    {
      "cell_type": "markdown",
      "source": [
        "### 2.1 Create a Pipeline for Scaling and K-Means Clustering (3 Points)\n",
        "\n",
        "- Construct a pipeline that includes a scaler and the K-Means clustering algorithm.\n",
        "- Use the `KelbowVisualizer` with `metric='calinski_harabasz'` from Yellowbrick to determine the optimal number of clusters, `k`.\n",
        "- Explain the results of the `KelbowVisualizer`."
      ],
      "metadata": {
        "id": "tSuKPKYtXOqo"
      },
      "id": "tSuKPKYtXOqo"
    },
    {
      "cell_type": "code",
      "source": [
        "# 2.1\n",
        "# Add necessary code here."
      ],
      "metadata": {
        "id": "u12HFmYNXQvg"
      },
      "id": "u12HFmYNXQvg",
      "execution_count": null,
      "outputs": []
    },
    {
      "cell_type": "markdown",
      "source": [
        "<font color='Green'><b>Answer:</b></font>\n",
        "\n",
        "- **2.1** ....................."
      ],
      "metadata": {
        "id": "ubYW3yzIYOev"
      },
      "id": "ubYW3yzIYOev"
    },
    {
      "cell_type": "markdown",
      "source": [
        "### 2.2 Label the Data Using the Optimal Number of Clusters (2 Points)\n",
        "- Label the training data using the pipeline that includes both the scaler and K-Means with the optimal `k` found in part 2.1."
      ],
      "metadata": {
        "id": "RSI8FWbVYsQU"
      },
      "id": "RSI8FWbVYsQU"
    },
    {
      "cell_type": "code",
      "source": [
        "# 2.2\n",
        "# Add necessary code here."
      ],
      "metadata": {
        "id": "oghD_WIAYtn7"
      },
      "id": "oghD_WIAYtn7",
      "execution_count": null,
      "outputs": []
    },
    {
      "cell_type": "markdown",
      "source": [
        "### 2.3 Dimensionality Reduction Using PCA (2 Points)\n",
        "- Apply PCA to reduce the dimensionality of the dataset to 2D."
      ],
      "metadata": {
        "id": "Wbq4Xt5uYyZH"
      },
      "id": "Wbq4Xt5uYyZH"
    },
    {
      "cell_type": "code",
      "source": [
        "# 2.3\n",
        "# Add necessary code here."
      ],
      "metadata": {
        "id": "6Off0lQlYz8o"
      },
      "id": "6Off0lQlYz8o",
      "execution_count": null,
      "outputs": []
    },
    {
      "cell_type": "markdown",
      "source": [
        "#### 2.4 Plot the 2D Data with Cluster Labels (3 Points)\n",
        "- Create a 2D scatter plot of the PCA-reduced data.\n",
        "- Color the points using the labels obtained from K-Means clustering."
      ],
      "metadata": {
        "id": "He9Ku5U_Y4Pn"
      },
      "id": "He9Ku5U_Y4Pn"
    },
    {
      "cell_type": "code",
      "source": [
        "# 2.4\n",
        "# Add necessary code here."
      ],
      "metadata": {
        "id": "POBknNOwY6Oz"
      },
      "id": "POBknNOwY6Oz",
      "execution_count": null,
      "outputs": []
    },
    {
      "cell_type": "markdown",
      "source": [
        "## Bonus Question: Interpretation of Clustering Results (2 Points)\n",
        "\n",
        "- **Analyze and Interpret the Clustering Outcome**:\n",
        "  - Based on the 2D PCA plot with K-Means clustering labels from part 2.4, provide an interpretation of the clustering results.\n",
        "  - Discuss any patterns or insights observed from the plot, considering the distribution and overlap of clusters."
      ],
      "metadata": {
        "id": "4kILrSH9aDvn"
      },
      "id": "4kILrSH9aDvn"
    },
    {
      "cell_type": "markdown",
      "source": [
        "<font color='Green'><b>Answer:</b></font>\n",
        "\n",
        "- **Bonus Question** ....................."
      ],
      "metadata": {
        "id": "nUOBtxvfcVbW"
      },
      "id": "nUOBtxvfcVbW"
    }
  ],
  "metadata": {
    "kernelspec": {
      "display_name": "Python 3 (ipykernel)",
      "language": "python",
      "name": "python3"
    },
    "language_info": {
      "codemirror_mode": {
        "name": "ipython",
        "version": 3
      },
      "file_extension": ".py",
      "mimetype": "text/x-python",
      "name": "python",
      "nbconvert_exporter": "python",
      "pygments_lexer": "ipython3",
      "version": "3.11.5"
    },
    "colab": {
      "provenance": []
    }
  },
  "nbformat": 4,
  "nbformat_minor": 5
}